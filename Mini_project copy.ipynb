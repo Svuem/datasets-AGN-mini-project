{
 "cells": [
  {
   "cell_type": "code",
   "execution_count": null,
   "id": "33711583",
   "metadata": {},
   "outputs": [
    {
     "name": "stderr",
     "output_type": "stream",
     "text": [
      "WARNING: UnitsWarning: 'dex(solMass)' did not parse as fits unit: Unit 'dex' not supported by the FITS standard.  If this is meant to be a custom unit, define it with 'u.def_unit'. To have it recognized inside a file reader or other code, enable it with 'u.add_enabled_units'. For details, see https://docs.astropy.org/en/latest/units/combining_and_defining.html [astropy.units.core]\n",
      "WARNING: UnitsWarning: 'dex(solMass)' did not parse as fits unit: Unit 'dex' not supported by the FITS standard.  If this is meant to be a custom unit, define it with 'u.def_unit'. To have it recognized inside a file reader or other code, enable it with 'u.add_enabled_units'. For details, see https://docs.astropy.org/en/latest/units/combining_and_defining.html [astropy.units.core]\n",
      "WARNING: UnitsWarning: 'dex(solMass)' did not parse as fits unit: Unit 'dex' not supported by the FITS standard.  If this is meant to be a custom unit, define it with 'u.def_unit'. To have it recognized inside a file reader or other code, enable it with 'u.add_enabled_units'. For details, see https://docs.astropy.org/en/latest/units/combining_and_defining.html [astropy.units.core]\n"
     ]
    }
   ],
   "source": [
    "import numpy as np\n",
    "import matplotlib.pyplot as plt\n",
    "import astropy.units as u\n",
    "import pandas as pd\n",
    "from astropy.table import Table\n",
    "from astropy.coordinates import SkyCoord\n",
    "from astropy.io import fits\n",
    "\n",
    "#start with the LOFAR data, which is very roughly around 150 MHz\n",
    "lofar_data_table = Table.read('combined-release-v1.1-LM_opt_mass.fits')\n",
    "\n",
    "# Convert the table to a pandas DataFrame for easier manipulation\n",
    "df_lofar = lofar_data_table.to_pandas()"
   ]
  },
  {
   "cell_type": "code",
   "execution_count": 40,
   "id": "c515e6ab",
   "metadata": {},
   "outputs": [],
   "source": [
    "# Use flag_qual == 1 to get only the \"nice\" sources\n",
    "df_lofar = df_lofar[df_lofar['flag_qual'] == 1]\n",
    "# overwriting should be fine here"
   ]
  },
  {
   "cell_type": "markdown",
   "id": "b8f3e181",
   "metadata": {},
   "source": [
    "Because I want to compare the two frequency domains, I first want to find an area where we have sufficient data in both sets"
   ]
  },
  {
   "cell_type": "code",
   "execution_count": 41,
   "id": "5c00a08e",
   "metadata": {},
   "outputs": [
    {
     "name": "stdout",
     "output_type": "stream",
     "text": [
      "<bound method NDFrame.head of                        Source_Name          RA        DEC      E_RA     E_DEC  \\\n",
      "2        b'ILTJ000000.04+295526.3'    0.000182  29.923997  0.616315  0.572983   \n",
      "4        b'ILTJ000000.08+320812.2'    0.000352  32.136742  0.544358  0.710789   \n",
      "7        b'ILTJ000000.12+190239.3'    0.000516  19.044270  0.525431  0.440268   \n",
      "9        b'ILTJ000000.17+335555.6'    0.000689  33.932121  0.539066  0.446706   \n",
      "10       b'ILTJ000000.18+332839.0'    0.000745  33.477526  5.675420  4.155438   \n",
      "...                            ...         ...        ...       ...       ...   \n",
      "4167352  b'ILTJ235959.89+183105.8'  359.999551  18.518279  0.251745  0.196966   \n",
      "4167354  b'ILTJ235959.92+192308.7'  359.999661  19.385767  0.479778  0.551974   \n",
      "4167355  b'ILTJ235959.95+211928.9'  359.999774  21.324695  0.684107  0.561219   \n",
      "4167356  b'ILTJ235959.96+195342.1'  359.999842  19.895027  0.130785  0.128807   \n",
      "4167358  b'ILTJ240000.00+274622.1'  359.999969  27.772826  0.499072  0.422525   \n",
      "\n",
      "         Total_flux  E_Total_flux  Peak_flux  E_Peak_flux S_Code   Mosaic_ID  \\\n",
      "2          0.884912      0.274432   0.647176     0.127702   b'S'  b'P000+31'   \n",
      "4          1.421767      0.319074   0.633838     0.103298   b'S'  b'P000+31'   \n",
      "7          1.553520      0.336210   0.951339     0.137622   b'S'  b'P359+18'   \n",
      "9          0.665900      0.185550   0.559327     0.094467   b'S'  b'P001+33'   \n",
      "10         2.867390      1.186604   0.127763     0.050661   b'S'  b'P001+33'   \n",
      "...             ...           ...        ...          ...    ...         ...   \n",
      "4167352    6.975716      0.491363   2.679720     0.141627   b'S'  b'P359+18'   \n",
      "4167354    0.775581      0.236478   0.662785     0.122512   b'S'  b'P359+18'   \n",
      "4167355    0.663012      0.208528   0.483402     0.096342   b'S'  b'P359+21'   \n",
      "4167356    3.189783      0.236752   2.586649     0.118555   b'S'  b'P359+21'   \n",
      "4167358    0.970912      0.228832   0.698852     0.105154   b'S'  b'P359+28'   \n",
      "\n",
      "               Maj        Min          PA      E_Maj     E_Min       E_PA  \\\n",
      "2         7.447431   6.610623  125.045066   1.545318  1.240461  71.574324   \n",
      "4         9.761780   8.274141  178.122904   1.673985  1.281530  44.500842   \n",
      "7         8.449443   6.958311  119.104380   1.315797  0.935079  34.023245   \n",
      "9         7.397896   5.794514  121.746255   1.397109  0.875232  31.002972   \n",
      "10       34.116611  23.685519   70.962896  13.744244  9.244307  60.413632   \n",
      "...            ...        ...         ...        ...       ...        ...   \n",
      "4167352  11.016798   8.506791  115.665990   0.625699  0.418381  10.044777   \n",
      "4167354   6.918360   6.090311  152.914732   1.355809  1.061838  63.028202   \n",
      "4167355   7.956224   6.206350   58.749867   1.760972  1.113806  37.319643   \n",
      "4167356   6.763942   6.564555   53.058912   0.314172  0.296895  63.476607   \n",
      "4167358   7.684463   6.509013  118.199689   1.239609  0.913536  40.379766   \n",
      "\n",
      "            DC_Maj     DC_Min       DC_PA   Isl_rms  FLAG_WORKFLOW  ID_flag  \\\n",
      "2         4.411160   2.773950  125.045066  0.120586              7        1   \n",
      "4         7.699121   5.697443  178.122904  0.095506              7        1   \n",
      "7         5.948647   3.523751  119.104380  0.128150              7        1   \n",
      "9         4.327288   0.000000  121.746255  0.091967              7        1   \n",
      "10       33.584719  22.912943   70.962896  0.090961              4        5   \n",
      "...            ...        ...         ...       ...            ...      ...   \n",
      "4167352   9.239412   6.030374  115.665990  0.132888              7        1   \n",
      "4167354   3.442302   1.044933  152.914732  0.118696              7        1   \n",
      "4167355   5.225053   1.585717   58.749867  0.091728             16        1   \n",
      "4167356   3.120984   2.662827   53.058912  0.113450              7        1   \n",
      "4167358   4.801138   2.522308  118.199689  0.099329             17        1   \n",
      "\n",
      "         Prefilter  Postfilter      lr_fin       optRA     optDec  \\\n",
      "2              -99           0   29.910995    0.000262  29.923649   \n",
      "4              -99           0   31.464479    0.000338  32.136615   \n",
      "7              -99           0   14.475854    0.000383  19.044335   \n",
      "9              -99           0   59.435233    0.000414  33.932187   \n",
      "10             -99           0    2.873833  359.999214  33.478511   \n",
      "...            ...         ...         ...         ...        ...   \n",
      "4167352        -99           0  317.106748  359.999598  18.518224   \n",
      "4167354        -99           0   66.253676  359.999790  19.385842   \n",
      "4167355        -99           0  254.438738  359.999700  21.324526   \n",
      "4167356        -99           0   92.764551  359.999902  19.895032   \n",
      "4167358        -99           0   73.674585    0.000169  27.772878   \n",
      "\n",
      "         Composite_Size  Composite_Width  Composite_PA  Assoc  ID_Qual  \\\n",
      "2                   NaN              NaN           NaN      0      NaN   \n",
      "4                   NaN              NaN           NaN      0      NaN   \n",
      "7                   NaN              NaN           NaN      0      NaN   \n",
      "9                   NaN              NaN           NaN      0      NaN   \n",
      "10                  NaN              NaN           NaN      0      NaN   \n",
      "...                 ...              ...           ...    ...      ...   \n",
      "4167352             NaN              NaN           NaN      0      NaN   \n",
      "4167354             NaN              NaN           NaN      0      NaN   \n",
      "4167355             NaN              NaN           NaN      0      NaN   \n",
      "4167356             NaN              NaN           NaN      0      NaN   \n",
      "4167358             NaN              NaN           NaN      0      NaN   \n",
      "\n",
      "         Assoc_Qual  Blend_prob  Other_prob                    Created  \\\n",
      "2               NaN         NaN         NaN  b'Create initial sources'   \n",
      "4               NaN         NaN         NaN  b'Create initial sources'   \n",
      "7               NaN         NaN         NaN  b'Create initial sources'   \n",
      "9               NaN         NaN         NaN  b'Create initial sources'   \n",
      "10              NaN         NaN         NaN  b'Create initial sources'   \n",
      "...             ...         ...         ...                        ...   \n",
      "4167352         NaN         NaN         NaN  b'Create initial sources'   \n",
      "4167354         NaN         NaN         NaN  b'Create initial sources'   \n",
      "4167355         NaN         NaN         NaN  b'Create initial sources'   \n",
      "4167356         NaN         NaN         NaN  b'Create initial sources'   \n",
      "4167358         NaN         NaN         NaN  b'Create initial sources'   \n",
      "\n",
      "        Position_from Renamed_from       ID_RA     ID_DEC  \\\n",
      "2               b'LR'          NaN    0.000262  29.923649   \n",
      "4               b'LR'          NaN    0.000338  32.136615   \n",
      "7               b'LR'          NaN    0.000383  19.044335   \n",
      "9               b'LR'          NaN    0.000414  33.932187   \n",
      "10              b'LR'          NaN  359.999214  33.478511   \n",
      "...               ...          ...         ...        ...   \n",
      "4167352         b'LR'          NaN  359.999598  18.518224   \n",
      "4167354         b'LR'          NaN  359.999790  19.385842   \n",
      "4167355         b'LR'          NaN  359.999700  21.324526   \n",
      "4167356         b'LR'          NaN  359.999902  19.895032   \n",
      "4167358         b'LR'          NaN    0.000169  27.772878   \n",
      "\n",
      "                       UID_L         UNWISE_OBJID              ID_NAME  \\\n",
      "2        b'0001p300_0000911'  b'0000p302o0007756'  b'0000p302o0007756'   \n",
      "4        b'0001p322_0000239'               b'N/A'  b'0001p322_0000239'   \n",
      "7        b'0001p190_0003865'  b'0000p196o0034257'  b'0000p196o0034257'   \n",
      "9        b'0001p340_0000912'  b'0000p333o0027164'  b'0000p333o0027164'   \n",
      "10       b'3598p335_0001491'  b'0000p333o0018472'  b'0000p333o0018472'   \n",
      "...                      ...                  ...                  ...   \n",
      "4167352  b'3598p185_0002338'  b'0000p181o0018223'  b'0000p181o0018223'   \n",
      "4167354  b'3598p195_0000307'  b'0000p196o0008222'  b'0000p196o0008222'   \n",
      "4167355  b'3598p212_0003623'  b'0000p212o0015448'  b'0000p212o0015448'   \n",
      "4167356  b'3598p200_0000487'  b'0000p196o0017068'  b'0000p196o0017068'   \n",
      "4167358  b'0001p277_0002709'  b'0000p272o0027914'  b'0000p272o0027914'   \n",
      "\n",
      "         Separation         Legacy_ID  HPX  release  brickid  objid  maskbits  \\\n",
      "2               0.0  8000495682000911  208     8000   495682    911         0   \n",
      "4               0.0  8000506814000239  144     8000   506814    239         0   \n",
      "7               0.0  8000437960003865  272     8000   437960   3865         0   \n",
      "9               0.0  8000515286000912  144     8000   515286    912         0   \n",
      "10              0.0  8000514085001491  144     8000   514085   1491         0   \n",
      "...             ...               ...  ...      ...      ...    ...       ...   \n",
      "4167352         0.0  8000436593002338  272     8000   436593   2338         0   \n",
      "4167354         0.0  8000442045000307  272     8000   442045    307         0   \n",
      "4167355         0.0  8000451501003623  208     8000   451501   3623         0   \n",
      "4167356         0.0  8000444759000487  208     8000   444759    487         0   \n",
      "4167358         0.0  8000484302002709  208     8000   484302   2709         0   \n",
      "\n",
      "         fracflux_g  fracflux_r  fracflux_z    type          ra        dec  \\\n",
      "2          0.000000    0.000000    0.000000  b'REX'    0.000262  29.923649   \n",
      "4          0.000944    0.013330    0.003205  b'DEV'    0.000338  32.136615   \n",
      "7          0.006266    0.026333    0.005152  b'REX'    0.000383  19.044335   \n",
      "9          0.000009    0.000004    0.000006  b'EXP'    0.000414  33.932187   \n",
      "10         0.000000    0.000000    0.000000  b'DEV'  359.999214  33.478511   \n",
      "...             ...         ...         ...     ...         ...        ...   \n",
      "4167352    0.005862    0.007149    0.007292  b'DEV'  359.999598  18.518224   \n",
      "4167354    0.000000    0.000000    0.000000  b'REX'  359.999790  19.385842   \n",
      "4167355    0.000097    0.000065    0.000050  b'REX'  359.999700  21.324526   \n",
      "4167356    0.000000    0.000000    0.000000  b'PSF'  359.999902  19.895032   \n",
      "4167358    0.189082    0.049674    0.086426  b'PSF'    0.000169  27.772878   \n",
      "\n",
      "            pstar      star ANYMASK_OPT gmmcomp     zphot  zphot_err  \\\n",
      "2        0.009831  b'False'     b'True'   b'R9'  0.895448   0.111456   \n",
      "4        0.000425  b'False'    b'False'   b'D7'  0.075659   0.027920   \n",
      "7        0.010883  b'False'    b'False'   b'R7'  0.904674   0.335423   \n",
      "9        0.002002  b'False'    b'False'   b'E8'  0.464297   0.113435   \n",
      "10       0.001864  b'False'    b'False'   b'D9'  0.532639   0.046141   \n",
      "...           ...       ...         ...     ...       ...        ...   \n",
      "4167352  0.001032  b'False'    b'False'   b'D2'  0.425246   0.015964   \n",
      "4167354  0.005088  b'False'    b'False'   b'R8'  0.992245   0.185947   \n",
      "4167355  0.014806  b'False'    b'False'   b'R3'  0.407289   0.062084   \n",
      "4167356  0.077175  b'False'    b'False'   b'P3'  1.403711   0.467862   \n",
      "4167358  0.001447  b'False'    b'False'   b'P2'  1.282557   0.276171   \n",
      "\n",
      "          var.density  var.tr.noise  var.in.noise  flag_qual  zspec_sdss  \\\n",
      "2        7.853282e-04      0.021223      0.001057          1         NaN   \n",
      "4        5.810464e-06      0.001017      0.000004          1         NaN   \n",
      "7        2.096871e-04      0.199087      0.013851          1         NaN   \n",
      "9        3.781609e-05      0.020015      0.000497          1         NaN   \n",
      "10       3.586710e-06      0.005262      0.000277          1         NaN   \n",
      "...               ...           ...           ...        ...         ...   \n",
      "4167352  3.370628e-07      0.000515      0.000037          1         NaN   \n",
      "4167354  3.863481e-04      0.053121      0.020039          1         NaN   \n",
      "4167355  2.956040e-05      0.003667      0.000014          1         NaN   \n",
      "4167356  8.099060e-03      0.530709      0.017782          1         NaN   \n",
      "4167358  7.298768e-04      0.111797      0.000992          1         NaN   \n",
      "\n",
      "         zwarning_sdss  plate_sdss  mjd_sdss  fiberid_sdss  z_hetdex  \\\n",
      "2                 <NA>        <NA>      <NA>          <NA>       NaN   \n",
      "4                 <NA>        <NA>      <NA>          <NA>       NaN   \n",
      "7                 <NA>        <NA>      <NA>          <NA>       NaN   \n",
      "9                 <NA>        <NA>      <NA>          <NA>       NaN   \n",
      "10                <NA>        <NA>      <NA>          <NA>       NaN   \n",
      "...                ...         ...       ...           ...       ...   \n",
      "4167352           <NA>        <NA>      <NA>          <NA>       NaN   \n",
      "4167354           <NA>        <NA>      <NA>          <NA>       NaN   \n",
      "4167355           <NA>        <NA>      <NA>          <NA>       NaN   \n",
      "4167356           <NA>        <NA>      <NA>          <NA>       NaN   \n",
      "4167358           <NA>        <NA>      <NA>          <NA>       NaN   \n",
      "\n",
      "         z_hetdex_conf  hetdex_sourceid  z_desi  z_desi_err  desi_sourceid  \\\n",
      "2                  NaN             <NA>     NaN         NaN           <NA>   \n",
      "4                  NaN             <NA>     NaN         NaN           <NA>   \n",
      "7                  NaN             <NA>     NaN         NaN           <NA>   \n",
      "9                  NaN             <NA>     NaN         NaN           <NA>   \n",
      "10                 NaN             <NA>     NaN         NaN           <NA>   \n",
      "...                ...              ...     ...         ...            ...   \n",
      "4167352            NaN             <NA>     NaN         NaN           <NA>   \n",
      "4167354            NaN             <NA>     NaN         NaN           <NA>   \n",
      "4167355            NaN             <NA>     NaN         NaN           <NA>   \n",
      "4167356            NaN             <NA>     NaN         NaN           <NA>   \n",
      "4167358            NaN             <NA>     NaN         NaN           <NA>   \n",
      "\n",
      "        2RXS_ID XMMSL2_ID  Resolved        LAS    z_best z_source        Size  \\\n",
      "2         b'--'     b'--'     False   8.822320  0.895448  b'Phot'   68.629500   \n",
      "4         b'--'     b'--'     False  15.398241  0.075659  b'Phot'   22.099540   \n",
      "7         b'--'     b'--'     False  11.897294  0.904674  b'Phot'   92.822036   \n",
      "9         b'--'     b'--'     False   8.654575  0.464297  b'Phot'   50.731573   \n",
      "10        b'--'     b'--'      True  67.169439  0.532639  b'Phot'  423.741756   \n",
      "...         ...       ...       ...        ...       ...      ...         ...   \n",
      "4167352   b'--'     b'--'     False  18.478824  0.425246  b'Phot'  102.989452   \n",
      "4167354   b'--'     b'--'     False   6.884604  0.992245  b'Phot'   55.029653   \n",
      "4167355   b'--'     b'--'     False  10.450107  0.407289  b'Phot'   56.763455   \n",
      "4167356   b'--'     b'--'     False   6.241969  1.403711  b'Phot'   52.638591   \n",
      "4167358   b'--'     b'--'     False   9.602276  1.282557  b'Phot'   80.318183   \n",
      "\n",
      "                L_144    Field  Legacy_Coverage  LM_flux  LM_size  \\\n",
      "2        2.904367e+24  b'Fall'             True      1.0      NaN   \n",
      "4        1.952586e+22  b'Fall'             True      1.0      NaN   \n",
      "7        5.221799e+24  b'Fall'             True      1.0      NaN   \n",
      "9        4.775983e+23  b'Fall'             True      1.0      NaN   \n",
      "10       2.819904e+24  b'Fall'             True      1.0      NaN   \n",
      "...               ...      ...              ...      ...      ...   \n",
      "4167352  4.092415e+24  b'Fall'             True      1.0      NaN   \n",
      "4167354  3.231407e+24  b'Fall'             True      1.0      NaN   \n",
      "4167355  3.525305e+23  b'Fall'             True      1.0      NaN   \n",
      "4167356  2.963139e+25  b'Fall'             True      1.0      NaN   \n",
      "4167358  7.327915e+24  b'Fall'             True      1.0      NaN   \n",
      "\n",
      "         Bad_LM_flux  Bad_LM_image     LAS_from      mag_g  magerr_g  \\\n",
      "2              False         False  b'Gaussian'  24.699486  0.418943   \n",
      "4              False         False  b'Gaussian'  16.582066  0.001365   \n",
      "7              False         False  b'Gaussian'  23.640539  0.116189   \n",
      "9              False         False  b'Gaussian'  21.733540  0.025504   \n",
      "10             False         False  b'Gaussian'  22.486391  0.063640   \n",
      "...              ...           ...          ...        ...       ...   \n",
      "4167352        False         False  b'Gaussian'  21.338673  0.024702   \n",
      "4167354        False         False  b'Gaussian'  24.634115       NaN   \n",
      "4167355        False         False  b'Gaussian'  20.861757  0.007717   \n",
      "4167356        False         False  b'Gaussian'  25.813160       NaN   \n",
      "4167358        False         False  b'Gaussian'  22.149473  0.020163   \n",
      "\n",
      "             mag_r  magerr_r      mag_z  magerr_z     mag_w1  magerr_w1  \\\n",
      "2        22.998577  0.162646  21.740078  0.133651  19.372295   0.039168   \n",
      "4        15.876496  0.001163  15.340103  0.001409  15.543908   0.002572   \n",
      "7        23.050209  0.100758  22.648159  0.173932  20.515232   0.101333   \n",
      "9        20.720669  0.016423  19.878382  0.021854  19.074392   0.025740   \n",
      "10       20.662809  0.019248  19.505322  0.019755  18.212654   0.013048   \n",
      "...            ...       ...        ...       ...        ...        ...   \n",
      "4167352  19.488544  0.009109  18.550926  0.007902  17.934711   0.010419   \n",
      "4167354  23.589340  0.177652  22.212475  0.102711  19.733885   0.048754   \n",
      "4167355  19.347836  0.003693  18.495890  0.003425  17.653133   0.007292   \n",
      "4167356  24.742836       NaN  23.025625  0.164321  19.725475   0.047375   \n",
      "4167358  21.267895  0.014409  20.801893  0.020429  19.096661   0.026388   \n",
      "\n",
      "            mag_w2  magerr_w2     mag_w3  magerr_w3     mag_w4  magerr_w4  \\\n",
      "2        19.053978   0.066053  17.410990        NaN  15.535544        NaN   \n",
      "4        16.033203   0.008709  14.114574   0.030521  13.520182   0.123165   \n",
      "7        21.147148   0.422986  17.435793        NaN  15.611651        NaN   \n",
      "9        19.225290   0.067152  17.428719   0.282377  15.414680        NaN   \n",
      "10       18.680576   0.045395  17.384979   0.308039  15.547902        NaN   \n",
      "...            ...        ...        ...        ...        ...        ...   \n",
      "4167352  18.616802   0.045014  17.813107        NaN  14.929457        NaN   \n",
      "4167354  20.074635   0.157550  17.361891        NaN  15.439964        NaN   \n",
      "4167355  17.959789   0.022341  16.563778   0.156704  15.053329        NaN   \n",
      "4167356  19.963112   0.135996  17.226315        NaN  15.566708        NaN   \n",
      "4167358  18.599951   0.039297  18.099648   0.475992  15.846947        NaN   \n",
      "\n",
      "         WISE_Src  Mass_median   Mass_l68   Mass_u68     g_rest     r_rest  \\\n",
      "2        b'lsdr8'    11.185665  11.101999  11.259776 -21.708033 -22.484964   \n",
      "4        b'lsdr8'    10.654232  10.145109  10.980970 -21.088823 -21.669466   \n",
      "7        b'lsdr8'    10.222460   9.700984  10.564255 -20.875689 -21.279734   \n",
      "9        b'lsdr8'    10.674445  10.544579  10.764856 -21.292009 -21.815989   \n",
      "10       b'lsdr8'    11.154915  11.039158  11.235940 -21.939161 -22.702349   \n",
      "...           ...          ...        ...        ...        ...        ...   \n",
      "4167352  b'lsdr8'    11.269423  11.134327  11.322230 -22.165606 -22.889776   \n",
      "4167354  b'lsdr8'    11.049938  10.943978  11.146530 -21.512659 -22.276648   \n",
      "4167355  b'lsdr8'    11.246588  11.109512  11.367029 -22.382143 -23.019323   \n",
      "4167356  b'lsdr8'          NaN        NaN        NaN        NaN        NaN   \n",
      "4167358  b'lsdr8'          NaN        NaN        NaN        NaN        NaN   \n",
      "\n",
      "            z_rest     U_rest     V_rest     J_rest     K_rest    w1_rest  \\\n",
      "2       -23.170900 -20.091394 -22.099302 -23.497766 -23.613699 -23.016466   \n",
      "4       -22.205431 -19.869375 -21.372923 -22.439867 -22.431749 -21.748045   \n",
      "7       -21.697611 -20.034056 -21.059141 -21.848093 -21.892054 -21.297815   \n",
      "9       -22.353022 -20.157354 -21.537313 -22.613672 -22.704706 -22.111223   \n",
      "10      -23.381258 -20.357183 -22.322710 -23.702433 -23.806986 -23.199526   \n",
      "...            ...        ...        ...        ...        ...        ...   \n",
      "4167352 -23.485998 -20.540884 -22.543364 -23.731604 -23.689070 -22.972063   \n",
      "4167354 -22.949636 -19.911951 -21.897310 -23.270796 -23.385801 -22.792856   \n",
      "4167355 -23.618753 -21.032610 -22.693441 -23.908815 -24.014448 -23.423994   \n",
      "4167356        NaN        NaN        NaN        NaN        NaN        NaN   \n",
      "4167358        NaN        NaN        NaN        NaN        NaN        NaN   \n",
      "\n",
      "           w2_rest       r_50  r_50_err  flag_mass  \n",
      "2       -22.508574   1.749413  0.171720      False  \n",
      "4       -21.202448  10.473414  0.008837       True  \n",
      "7       -20.796915   0.325381  0.067017       True  \n",
      "9       -21.611811   0.880324  0.020815       True  \n",
      "10      -22.686308   1.036260  0.030109       True  \n",
      "...            ...        ...       ...        ...  \n",
      "4167352 -22.401979   1.086878  0.011489       True  \n",
      "4167354 -22.287039   0.689167  0.085613       True  \n",
      "4167355 -22.922953   0.628905  0.002603       True  \n",
      "4167356        NaN   0.000000       NaN      False  \n",
      "4167358        NaN   0.000000       NaN      False  \n",
      "\n",
      "[2318696 rows x 123 columns]>\n",
      "DEC min: 16.086076025414048, DEC max: 69.64415878929005\n"
     ]
    },
    {
     "data": {
      "text/plain": [
       "<matplotlib.collections.PathCollection at 0x1a78e1054c0>"
      ]
     },
     "execution_count": 41,
     "metadata": {},
     "output_type": "execute_result"
    },
    {
     "data": {
      "image/png": "[encoded data removed]",
      "text/plain": [
       "<Figure size 640x480 with 1 Axes>"
      ]
     },
     "metadata": {},
     "output_type": "display_data"
    }
   ],
   "source": [
    "# get an idea what I'm looking at\n",
    "print(df_lofar.head)\n",
    "dec_max = df_lofar['DEC'].max()\n",
    "dec_min = df_lofar['DEC'].min()\n",
    "print(f\"DEC min: {dec_min}, DEC max: {dec_max}\")\n",
    "plt.scatter(df_lofar['RA'], df_lofar['DEC'])"
   ]
  },
  {
   "cell_type": "code",
   "execution_count": 42,
   "id": "3ceb507f",
   "metadata": {},
   "outputs": [
    {
     "name": "stderr",
     "output_type": "stream",
     "text": [
      "WARNING: UnitsWarning: 'year' did not parse as fits unit: At col 0, Unit 'year' not supported by the FITS standard.  If this is meant to be a custom unit, define it with 'u.def_unit'. To have it recognized inside a file reader or other code, enable it with 'u.add_enabled_units'. For details, see https://docs.astropy.org/en/latest/units/combining_and_defining.html [astropy.units.core]\n",
      "WARNING: UnitsWarning: 'day' did not parse as fits unit: At col 0, Unit 'day' not supported by the FITS standard. Did you mean dA, da, daJy or dayr? If this is meant to be a custom unit, define it with 'u.def_unit'. To have it recognized inside a file reader or other code, enable it with 'u.add_enabled_units'. For details, see https://docs.astropy.org/en/latest/units/combining_and_defining.html [astropy.units.core]\n",
      "WARNING: UnitsWarning: 'day' did not parse as fits unit: At col 0, Unit 'day' not supported by the FITS standard. Did you mean dA, da, daJy or dayr? If this is meant to be a custom unit, define it with 'u.def_unit'. To have it recognized inside a file reader or other code, enable it with 'u.add_enabled_units'. For details, see https://docs.astropy.org/en/latest/units/combining_and_defining.html [astropy.units.core]\n",
      "WARNING: UnitsWarning: 'day' did not parse as fits unit: At col 0, Unit 'day' not supported by the FITS standard. Did you mean dA, da, daJy or dayr? If this is meant to be a custom unit, define it with 'u.def_unit'. To have it recognized inside a file reader or other code, enable it with 'u.add_enabled_units'. For details, see https://docs.astropy.org/en/latest/units/combining_and_defining.html [astropy.units.core]\n",
      "WARNING: UnitsWarning: 'day' did not parse as fits unit: At col 0, Unit 'day' not supported by the FITS standard. Did you mean dA, da, daJy or dayr? If this is meant to be a custom unit, define it with 'u.def_unit'. To have it recognized inside a file reader or other code, enable it with 'u.add_enabled_units'. For details, see https://docs.astropy.org/en/latest/units/combining_and_defining.html [astropy.units.core]\n"
     ]
    }
   ],
   "source": [
    "#load the FIRST dataset, which is at around 1.4 GHz\n",
    "\n",
    "first_data_table = Table.read('folder_first/first_14dec17.fits')\n",
    "\n",
    "df_first = first_data_table.to_pandas()"
   ]
  },
  {
   "cell_type": "code",
   "execution_count": 43,
   "id": "1ef1d1ff",
   "metadata": {},
   "outputs": [
    {
     "name": "stdout",
     "output_type": "stream",
     "text": [
      "<bound method NDFrame.head of                 RA        DEC  SIDEPROB  FPEAK       FINT       RMS  MAJOR  \\\n",
      "0       111.892869  64.683278  0.197213   1.00   1.120000  0.139372   2.13   \n",
      "1       114.663768  64.671189  0.014053   2.39   5.729300  0.139081   9.31   \n",
      "2       117.600080  64.667002  0.014053  22.09  24.001633  0.139918   1.96   \n",
      "3       114.690091  64.663921  0.014053   2.39   4.333272  0.139619   6.43   \n",
      "4       114.886664  64.655008  0.082169   1.41   1.251983  0.139191   2.63   \n",
      "...            ...        ...       ...    ...        ...       ...    ...   \n",
      "946427    1.490179 -11.466122  0.865585   1.07   1.004756  0.153650   1.71   \n",
      "946428    1.460987 -11.466598  0.544315   1.15   2.210556  0.156195   7.35   \n",
      "946429    2.988079 -11.466975  0.014053   7.56  20.404760  0.154106  12.72   \n",
      "946430   15.746366 -11.471578  0.200429   1.40   1.071304  0.154817   3.15   \n",
      "946431   15.749117 -11.472486  0.059739   1.62   2.211241  0.155228   4.47   \n",
      "\n",
      "        MINOR      POSANG  FITTED_MAJOR  FITTED_MINOR  FITTED_POSANG  \\\n",
      "0        1.58    0.200000          5.80          5.63       0.200000   \n",
      "1        3.58  136.600006         10.76          6.48     136.600006   \n",
      "2        1.13    6.800000          5.74          5.52       6.800000   \n",
      "3        3.27   13.500000          8.40          6.31      13.500000   \n",
      "4        0.00   37.500000          6.01          4.30      37.500000   \n",
      "...       ...         ...           ...           ...            ...   \n",
      "946427   0.00   51.099998          6.32          5.13      22.100000   \n",
      "946428   4.23  174.199997          9.74          6.87     175.600006   \n",
      "946429   3.65   11.900000         14.22          6.56      11.000000   \n",
      "946430   0.00   75.699997          6.33          4.15      68.599998   \n",
      "946431   2.08   79.500000          7.10          6.64      58.299999   \n",
      "\n",
      "                FLDNAME  NSDSS   SDSS_SEP   SDSS_MAG SDSS_CLASS  NTMASS  \\\n",
      "0       b'07300+64243J'     -1  99.000000  99.000000       b'-'       1   \n",
      "1       b'07360+64243J'     -1  99.000000  99.000000       b'-'       0   \n",
      "2       b'07480+64243J'     -1  99.000000  99.000000       b'-'       0   \n",
      "3       b'07360+64243J'     -1  99.000000  99.000000       b'-'       0   \n",
      "4       b'07420+64243J'     -1  99.000000  99.000000       b'-'       0   \n",
      "...                 ...    ...        ...        ...        ...     ...   \n",
      "946427  b'00060-11200X'     -1  99.000000  99.000000       b'-'       0   \n",
      "946428  b'00060-11200X'     -1  99.000000  99.000000       b'-'       0   \n",
      "946429  b'00120-11200X'      1   7.562562  21.236814       b'g'       0   \n",
      "946430  b'01030-11200X'     -1  99.000000  99.000000       b'-'       0   \n",
      "946431  b'01030-11200X'     -1  99.000000  99.000000       b'-'       0   \n",
      "\n",
      "        TMASS_SEP  TMASS_MAG         YEAR           MJD    MJDRMS  \\\n",
      "0        6.760249     14.616  2002.686646  2.452526e+06  0.002276   \n",
      "1       99.000000     99.000  2002.686646  2.452526e+06  0.001277   \n",
      "2       99.000000     99.000  2002.686646  2.452526e+06  0.001620   \n",
      "3       99.000000     99.000  2002.686646  2.452526e+06  0.000000   \n",
      "4       99.000000     99.000  2002.686646  2.452526e+06  0.002102   \n",
      "...           ...        ...          ...           ...       ...   \n",
      "946427  99.000000     99.000  1997.393433  2.450593e+06  0.000000   \n",
      "946428  99.000000     99.000  1997.393433  2.450593e+06  0.000000   \n",
      "946429  99.000000     99.000  1997.393433  2.450593e+06  0.000000   \n",
      "946430  99.000000     99.000  1997.398926  2.450595e+06  0.000000   \n",
      "946431  99.000000     99.000  1997.398926  2.450595e+06  0.000000   \n",
      "\n",
      "            MJDSTART       MJDSTOP  \n",
      "0       2.452526e+06  2.452526e+06  \n",
      "1       2.452526e+06  2.452526e+06  \n",
      "2       2.452526e+06  2.452526e+06  \n",
      "3       2.452526e+06  2.452526e+06  \n",
      "4       2.452526e+06  2.452526e+06  \n",
      "...              ...           ...  \n",
      "946427  2.450593e+06  2.450593e+06  \n",
      "946428  2.450593e+06  2.450593e+06  \n",
      "946429  2.450593e+06  2.450593e+06  \n",
      "946430  2.450595e+06  2.450595e+06  \n",
      "946431  2.450595e+06  2.450595e+06  \n",
      "\n",
      "[946432 rows x 25 columns]>\n"
     ]
    },
    {
     "data": {
      "image/png": "[encoded data removed]",
      "text/plain": [
       "<Figure size 1000x1000 with 1 Axes>"
      ]
     },
     "metadata": {},
     "output_type": "display_data"
    }
   ],
   "source": [
    "# same thing for the FIRST data\n",
    "print(df_first.head)\n",
    "fig = plt.figure(figsize=(10, 10))\n",
    "subplot = fig.add_subplot(1, 1, 1)\n",
    "subplot.scatter(df_first['RA'], df_first['DEC'], color = 'blue', alpha=0.5)\n",
    "subplot.scatter(df_lofar['RA'], df_lofar['DEC'], color='red', alpha=0.5)\n",
    "plt.xlabel('RA')\n",
    "plt.ylabel('DEC')\n",
    "plt.show()"
   ]
  },
  {
   "cell_type": "markdown",
   "id": "38975a53",
   "metadata": {},
   "source": [
    "I can pick some region that is overlapping now. Originally, I wanted to look at 3C 273 and M87, but that region isn't covered by this LOFAR set, so I'll look for another interesting region <p />\n",
    "Using the NASA/IPAC extragalactic database, we can look for an interesting region that contains QSO (quasars) within our constraints (search by parameters, RA $\\in$ [10h, 13h] ; DEC $\\in$ [30D, 60D]) <p />\n",
    "We can then plot the result from the search in the same plot after converting it into a CSV file"
   ]
  },
  {
   "cell_type": "code",
   "execution_count": 44,
   "id": "f02cee78",
   "metadata": {},
   "outputs": [
    {
     "name": "stdout",
     "output_type": "stream",
     "text": [
      "(24391, 17)\n",
      "(2318696, 123)\n",
      "(946432, 25)\n"
     ]
    }
   ],
   "source": [
    "NASA_IPAC_search = pd.read_csv('NASA_IPAC_search.txt', sep = '|', skiprows=21 )\n",
    "print(NASA_IPAC_search.shape)\n",
    "print(df_lofar.shape)\n",
    "print(df_first.shape)"
   ]
  },
  {
   "cell_type": "markdown",
   "id": "17ef39d3",
   "metadata": {},
   "source": [
    "Since this is much more than I expected, I'll aim for the Coma cluster instead. First I want to figure out the area I'm aiming for"
   ]
  },
  {
   "cell_type": "code",
   "execution_count": 83,
   "id": "583cbf93",
   "metadata": {},
   "outputs": [
    {
     "name": "stdout",
     "output_type": "stream",
     "text": [
      "radius: 2.8013245608335713 Mly\n",
      "coma coordinates: <SkyCoord (ICRS): (ra, dec) in deg\n",
      "    (194.95, 27.98)>\n"
     ]
    }
   ],
   "source": [
    "coma_coords = SkyCoord(ra=194.95*u.deg, dec=+27.98*u.deg) # coordinates from NASA/IPAC\n",
    "coma_diameter_mly = 20\n",
    "coma_distance_mly = 321\n",
    "#theta = np.arctan(0.5*coma_diameter_mly / coma_distance_mly) / np.pi * 180\n",
    "#print(f\"theta: {theta} degrees\")\n",
    "# lets make this more conservative and just use 0.5 degrees and see what radius we're looking at 321 Mly away\n",
    "theta = 0.5\n",
    "radius = np.tan(theta * np.pi / 180) * coma_distance_mly\n",
    "print(f\"radius: {radius} Mly\")\n",
    "print(f\"coma coordinates: {coma_coords}\")"
   ]
  },
  {
   "cell_type": "code",
   "execution_count": 84,
   "id": "41612f50",
   "metadata": {},
   "outputs": [
    {
     "name": "stdout",
     "output_type": "stream",
     "text": [
      "LOFAR coma shape: (431, 123)\n",
      "FIRST coma shape: (109, 25)\n",
      "[b'COMP' b'DEV' b'EXP' b'PSF' b'REX']\n",
      "[b'-' b'g' b's']\n",
      "2281945    194.451195\n",
      "2282151    194.459312\n",
      "2282234    194.462029\n",
      "2282271    194.463293\n",
      "2282281    194.463530\n",
      "              ...    \n",
      "2310199    195.431778\n",
      "2310294    195.434687\n",
      "2310306    195.435082\n",
      "2310465    195.440030\n",
      "2310669    195.447438\n",
      "Name: RA, Length: 431, dtype: float64\n"
     ]
    }
   ],
   "source": [
    "lofar_coma = df_lofar[ (df_lofar['RA'] > coma_coords.ra.value - theta) & (df_lofar['RA'] < coma_coords.ra.value + theta) & (df_lofar['DEC'] > coma_coords.dec.value - theta) & (df_lofar['DEC'] < coma_coords.dec.value + theta) ]\n",
    "print(f\"LOFAR coma shape: {lofar_coma.shape}\")\n",
    "first_coma = df_first[ (df_first['RA'] > coma_coords.ra.value - theta) & (df_first['RA'] < coma_coords.ra.value + theta) & (df_first['DEC'] > coma_coords.dec.value - theta) & (df_first['DEC'] < coma_coords.dec.value + theta) ]\n",
    "print(f\"FIRST coma shape: {first_coma.shape}\")\n",
    "print(np.unique(lofar_coma['type']))\n",
    "print(np.unique(first_coma['SDSS_CLASS']))\n",
    "print((lofar_coma['RA']))"
   ]
  },
  {
   "cell_type": "markdown",
   "id": "92f618bd",
   "metadata": {},
   "source": [
    "At this point, I would like to futher filter the data by excluding certain types or classes from the datasets. However, my current knowledge isn't sufficient to accurately filter out AGNs based on type. That's why I'll go straight to matching coordinates."
   ]
  },
  {
   "cell_type": "code",
   "execution_count": 115,
   "id": "ff414c50",
   "metadata": {},
   "outputs": [
    {
     "name": "stdout",
     "output_type": "stream",
     "text": [
      "LOFAR matched shape: (22, 123)\n",
      "FIRST matched shape: (22, 25)\n"
     ]
    }
   ],
   "source": [
    "import scipy\n",
    "\n",
    "RA_LOFAR_COMA = np.array(lofar_coma['RA'] *u.deg)\n",
    "DEC_LOFAR_COMA = np.array(lofar_coma['DEC'] *u.deg)\n",
    "RA_FIRST_COMA = np.array(first_coma['RA'] *u.deg)\n",
    "DEC_FIRST_COMA = np.array(first_coma['DEC'] *u.deg)\n",
    "\n",
    "coords_lofar_coma = SkyCoord(ra=RA_LOFAR_COMA, dec=DEC_LOFAR_COMA, unit=(u.deg, u.deg))\n",
    "coords_first_coma = SkyCoord(ra=RA_FIRST_COMA, dec=DEC_FIRST_COMA, unit=(u.deg, u.deg))\n",
    "\n",
    "#matching the coords\n",
    "\n",
    "index, d2d, any = coords_lofar_coma.match_to_catalog_sky(coords_first_coma)\n",
    "\n",
    "#tolearance \n",
    "tol = 1\n",
    "matched = d2d < tol * u.arcsec\n",
    "\n",
    "# Get intersected subset\n",
    "lofar_matched = lofar_coma.iloc[matched]\n",
    "first_matched   = first_coma.iloc[index[matched]]\n",
    "print(f\"LOFAR matched shape: {lofar_matched.shape}\")\n",
    "print(f\"FIRST matched shape: {vla_matched.shape}\")"
   ]
  },
  {
   "cell_type": "markdown",
   "id": "7d3dc37c",
   "metadata": {},
   "source": [
    "In my opinion, this already looks promising! <p />\n",
    "\n",
    "Quick little status update: <p />\n",
    "We are looking at a 1deg x 1deg area in the direction of the coma cluster. LOFAR data has also been quality-filtered. We have then matched positions of the objects in the two catalogues, so we now have 22 pairs of objects (1 in each dataset) that are within 1 arcsecond of each other. Theta and tol are arbitrary control parameters. <p />\n",
    "\n",
    "We can now start analyzing the 22 sources further, let's start by looking at distances "
   ]
  },
  {
   "cell_type": "code",
   "execution_count": 116,
   "id": "5a4959f3",
   "metadata": {},
   "outputs": [
    {
     "data": {
      "text/plain": [
       "<matplotlib.legend.Legend at 0x1a58987c470>"
      ]
     },
     "execution_count": 116,
     "metadata": {},
     "output_type": "execute_result"
    },
    {
     "data": {
      "image/png": "[encoded data removed]",
      "text/plain": [
       "<Figure size 640x480 with 1 Axes>"
      ]
     },
     "metadata": {},
     "output_type": "display_data"
    }
   ],
   "source": [
    "from astropy.cosmology import FlatLambdaCDM\n",
    "\n",
    "cosmo = FlatLambdaCDM(H0=70, Om0=0.3)\n",
    "luminosity_distance = cosmo.luminosity_distance(lofar_matched['z_best'])\n",
    "\n",
    "plt.hist(lofar_matched['z_best'], bins=20, color='blue', alpha=0.5, label='z_best LOFAR')\n",
    "plt.axvline(x=0.023, color='red', linestyle='--', label='Coma cluster redshift')\n",
    "plt.xlabel('Redshift')\n",
    "plt.legend()\n",
    "\n",
    "# Since the redshifts are orders of magnitude larger than the redshift of the coma cluster, we are not observing AGN that are part of the cluster, but behind it.\n",
    "# This is consistent with the fact that there are no known AGN in the coma cluster (I think)."
   ]
  },
  {
   "cell_type": "markdown",
   "id": "bc02b190",
   "metadata": {},
   "source": [
    "Unfortunately, the VLA dataset does not feature redshift values. But it is already pretty clear that these AGN are not part of the Coma Cluster"
   ]
  },
  {
   "cell_type": "code",
   "execution_count": 122,
   "id": "8ea2f68f",
   "metadata": {},
   "outputs": [
    {
     "name": "stdout",
     "output_type": "stream",
     "text": [
      "[]\n"
     ]
    }
   ],
   "source": [
    "print([col for col in first_matched.columns if 'Fint' in col])"
   ]
  }
 ],
 "metadata": {
  "kernelspec": {
   "display_name": "Python 3",
   "language": "python",
   "name": "python3"
  },
  "language_info": {
   "codemirror_mode": {
    "name": "ipython",
    "version": 3
   },
   "file_extension": ".py",
   "mimetype": "text/x-python",
   "name": "python",
   "nbconvert_exporter": "python",
   "pygments_lexer": "ipython3",
   "version": "3.12.5"
  }
 },
 "nbformat": 4,
 "nbformat_minor": 5
}
